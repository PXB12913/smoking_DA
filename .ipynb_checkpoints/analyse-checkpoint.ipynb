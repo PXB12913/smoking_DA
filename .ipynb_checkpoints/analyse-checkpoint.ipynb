{
 "cells": [
  {
   "cell_type": "code",
   "execution_count": 25,
   "id": "811f1c2d-6a3e-4c2f-aa55-9e5b6fa6ba91",
   "metadata": {},
   "outputs": [],
   "source": [
    "import pandas as pd\n",
    "import numpy as np\n",
    "import matplotlib.pyplot as plt\n",
    "import seaborn as sns"
   ]
  },
  {
   "cell_type": "code",
   "execution_count": 26,
   "id": "5c2540ee-45f8-4bef-96c4-ed88f1e269d1",
   "metadata": {},
   "outputs": [
    {
     "data": {
      "text/html": [
       "<div>\n",
       "<style scoped>\n",
       "    .dataframe tbody tr th:only-of-type {\n",
       "        vertical-align: middle;\n",
       "    }\n",
       "\n",
       "    .dataframe tbody tr th {\n",
       "        vertical-align: top;\n",
       "    }\n",
       "\n",
       "    .dataframe thead th {\n",
       "        text-align: right;\n",
       "    }\n",
       "</style>\n",
       "<table border=\"1\" class=\"dataframe\">\n",
       "  <thead>\n",
       "    <tr style=\"text-align: right;\">\n",
       "      <th></th>\n",
       "      <th>Country</th>\n",
       "      <th>Year</th>\n",
       "      <th>Data.Daily cigarettes</th>\n",
       "      <th>Data.Percentage.Male</th>\n",
       "      <th>Data.Percentage.Female</th>\n",
       "      <th>Data.Percentage.Total</th>\n",
       "      <th>Data.Smokers.Total</th>\n",
       "      <th>Data.Smokers.Female</th>\n",
       "      <th>Data.Smokers.Male</th>\n",
       "    </tr>\n",
       "  </thead>\n",
       "  <tbody>\n",
       "    <tr>\n",
       "      <th>0</th>\n",
       "      <td>Afghanistan</td>\n",
       "      <td>1980</td>\n",
       "      <td>5.7</td>\n",
       "      <td>10.4</td>\n",
       "      <td>18.4</td>\n",
       "      <td>2.4</td>\n",
       "      <td>733520</td>\n",
       "      <td>81707</td>\n",
       "      <td>651813</td>\n",
       "    </tr>\n",
       "    <tr>\n",
       "      <th>1</th>\n",
       "      <td>Afghanistan</td>\n",
       "      <td>1981</td>\n",
       "      <td>5.8</td>\n",
       "      <td>10.5</td>\n",
       "      <td>18.4</td>\n",
       "      <td>2.3</td>\n",
       "      <td>720102</td>\n",
       "      <td>79276</td>\n",
       "      <td>640826</td>\n",
       "    </tr>\n",
       "    <tr>\n",
       "      <th>2</th>\n",
       "      <td>Afghanistan</td>\n",
       "      <td>1982</td>\n",
       "      <td>5.8</td>\n",
       "      <td>10.5</td>\n",
       "      <td>18.5</td>\n",
       "      <td>2.3</td>\n",
       "      <td>700415</td>\n",
       "      <td>76061</td>\n",
       "      <td>624355</td>\n",
       "    </tr>\n",
       "    <tr>\n",
       "      <th>3</th>\n",
       "      <td>Afghanistan</td>\n",
       "      <td>1983</td>\n",
       "      <td>5.9</td>\n",
       "      <td>10.5</td>\n",
       "      <td>18.6</td>\n",
       "      <td>2.3</td>\n",
       "      <td>676984</td>\n",
       "      <td>72411</td>\n",
       "      <td>604572</td>\n",
       "    </tr>\n",
       "    <tr>\n",
       "      <th>4</th>\n",
       "      <td>Afghanistan</td>\n",
       "      <td>1984</td>\n",
       "      <td>6.0</td>\n",
       "      <td>10.6</td>\n",
       "      <td>18.6</td>\n",
       "      <td>2.3</td>\n",
       "      <td>653812</td>\n",
       "      <td>68908</td>\n",
       "      <td>584905</td>\n",
       "    </tr>\n",
       "  </tbody>\n",
       "</table>\n",
       "</div>"
      ],
      "text/plain": [
       "       Country  Year  Data.Daily cigarettes  Data.Percentage.Male  \\\n",
       "0  Afghanistan  1980                    5.7                  10.4   \n",
       "1  Afghanistan  1981                    5.8                  10.5   \n",
       "2  Afghanistan  1982                    5.8                  10.5   \n",
       "3  Afghanistan  1983                    5.9                  10.5   \n",
       "4  Afghanistan  1984                    6.0                  10.6   \n",
       "\n",
       "   Data.Percentage.Female  Data.Percentage.Total  Data.Smokers.Total  \\\n",
       "0                    18.4                    2.4              733520   \n",
       "1                    18.4                    2.3              720102   \n",
       "2                    18.5                    2.3              700415   \n",
       "3                    18.6                    2.3              676984   \n",
       "4                    18.6                    2.3              653812   \n",
       "\n",
       "   Data.Smokers.Female  Data.Smokers.Male  \n",
       "0                81707             651813  \n",
       "1                79276             640826  \n",
       "2                76061             624355  \n",
       "3                72411             604572  \n",
       "4                68908             584905  "
      ]
     },
     "execution_count": 26,
     "metadata": {},
     "output_type": "execute_result"
    }
   ],
   "source": [
    "# 数据导入\n",
    "dataset = pd.read_csv(\"D:\\Codes\\data\\smoking_trend.csv\")\n",
    "dataset.head()"
   ]
  },
  {
   "cell_type": "code",
   "execution_count": 27,
   "id": "f5559d2d-1e1f-42d7-8835-f400737cada8",
   "metadata": {},
   "outputs": [
    {
     "data": {
      "text/plain": [
       "Country                   0\n",
       "Year                      0\n",
       "Data.Daily cigarettes     0\n",
       "Data.Percentage.Male      0\n",
       "Data.Percentage.Female    0\n",
       "Data.Percentage.Total     0\n",
       "Data.Smokers.Total        0\n",
       "Data.Smokers.Female       0\n",
       "Data.Smokers.Male         0\n",
       "dtype: int64"
      ]
     },
     "execution_count": 27,
     "metadata": {},
     "output_type": "execute_result"
    }
   ],
   "source": [
    "# 数据清洗\n",
    "# 空\n",
    "dataset.isna().sum()"
   ]
  },
  {
   "cell_type": "code",
   "execution_count": 28,
   "id": "b8f8c667-96ad-47b6-a854-c5c2440a8ffb",
   "metadata": {},
   "outputs": [
    {
     "data": {
      "text/plain": [
       "0"
      ]
     },
     "execution_count": 28,
     "metadata": {},
     "output_type": "execute_result"
    }
   ],
   "source": [
    "# 重\n",
    "dataset.duplicated().sum()"
   ]
  },
  {
   "cell_type": "code",
   "execution_count": 29,
   "id": "781f17f8-c16a-4fe2-b8ab-91dc3dc6eb74",
   "metadata": {},
   "outputs": [
    {
     "data": {
      "text/plain": [
       "Country                    188\n",
       "Year                        33\n",
       "Data.Daily cigarettes      554\n",
       "Data.Percentage.Male       403\n",
       "Data.Percentage.Female     571\n",
       "Data.Percentage.Total      359\n",
       "Data.Smokers.Total        6187\n",
       "Data.Smokers.Female       6085\n",
       "Data.Smokers.Male         6194\n",
       "dtype: int64"
      ]
     },
     "execution_count": 29,
     "metadata": {},
     "output_type": "execute_result"
    }
   ],
   "source": [
    "# 无用列\n",
    "dataset.nunique()"
   ]
  },
  {
   "cell_type": "code",
   "execution_count": 30,
   "id": "7b6b1c47-7a03-42f6-887a-1a4cdc22fe41",
   "metadata": {},
   "outputs": [
    {
     "data": {
      "text/html": [
       "<div>\n",
       "<style scoped>\n",
       "    .dataframe tbody tr th:only-of-type {\n",
       "        vertical-align: middle;\n",
       "    }\n",
       "\n",
       "    .dataframe tbody tr th {\n",
       "        vertical-align: top;\n",
       "    }\n",
       "\n",
       "    .dataframe thead th {\n",
       "        text-align: right;\n",
       "    }\n",
       "</style>\n",
       "<table border=\"1\" class=\"dataframe\">\n",
       "  <thead>\n",
       "    <tr style=\"text-align: right;\">\n",
       "      <th></th>\n",
       "      <th>Year</th>\n",
       "      <th>Data.Daily cigarettes</th>\n",
       "      <th>Data.Percentage.Male</th>\n",
       "      <th>Data.Percentage.Female</th>\n",
       "      <th>Data.Percentage.Total</th>\n",
       "      <th>Data.Smokers.Total</th>\n",
       "      <th>Data.Smokers.Female</th>\n",
       "      <th>Data.Smokers.Male</th>\n",
       "    </tr>\n",
       "  </thead>\n",
       "  <tbody>\n",
       "    <tr>\n",
       "      <th>count</th>\n",
       "      <td>6204.000000</td>\n",
       "      <td>6204.000000</td>\n",
       "      <td>6204.000000</td>\n",
       "      <td>6204.000000</td>\n",
       "      <td>6204.000000</td>\n",
       "      <td>6.204000e+03</td>\n",
       "      <td>6.204000e+03</td>\n",
       "      <td>6.204000e+03</td>\n",
       "    </tr>\n",
       "    <tr>\n",
       "      <th>mean</th>\n",
       "      <td>1996.000000</td>\n",
       "      <td>19.851854</td>\n",
       "      <td>18.988878</td>\n",
       "      <td>28.998179</td>\n",
       "      <td>9.149017</td>\n",
       "      <td>9.312808e+06</td>\n",
       "      <td>1.687367e+06</td>\n",
       "      <td>7.625441e+06</td>\n",
       "    </tr>\n",
       "    <tr>\n",
       "      <th>std</th>\n",
       "      <td>9.522672</td>\n",
       "      <td>13.754893</td>\n",
       "      <td>9.181818</td>\n",
       "      <td>12.971933</td>\n",
       "      <td>8.902388</td>\n",
       "      <td>6.662458e+07</td>\n",
       "      <td>1.172604e+07</td>\n",
       "      <td>5.527214e+07</td>\n",
       "    </tr>\n",
       "    <tr>\n",
       "      <th>min</th>\n",
       "      <td>1980.000000</td>\n",
       "      <td>1.000000</td>\n",
       "      <td>3.000000</td>\n",
       "      <td>5.000000</td>\n",
       "      <td>0.500000</td>\n",
       "      <td>1.711000e+03</td>\n",
       "      <td>2.970000e+02</td>\n",
       "      <td>1.248000e+03</td>\n",
       "    </tr>\n",
       "    <tr>\n",
       "      <th>25%</th>\n",
       "      <td>1988.000000</td>\n",
       "      <td>12.700000</td>\n",
       "      <td>11.000000</td>\n",
       "      <td>17.900000</td>\n",
       "      <td>2.300000</td>\n",
       "      <td>1.647678e+05</td>\n",
       "      <td>2.071250e+04</td>\n",
       "      <td>1.374698e+05</td>\n",
       "    </tr>\n",
       "    <tr>\n",
       "      <th>50%</th>\n",
       "      <td>1996.000000</td>\n",
       "      <td>19.100000</td>\n",
       "      <td>18.500000</td>\n",
       "      <td>27.900000</td>\n",
       "      <td>4.900000</td>\n",
       "      <td>6.755780e+05</td>\n",
       "      <td>9.572450e+04</td>\n",
       "      <td>5.125615e+05</td>\n",
       "    </tr>\n",
       "    <tr>\n",
       "      <th>75%</th>\n",
       "      <td>2004.000000</td>\n",
       "      <td>23.900000</td>\n",
       "      <td>26.100000</td>\n",
       "      <td>38.400002</td>\n",
       "      <td>15.000000</td>\n",
       "      <td>2.243216e+06</td>\n",
       "      <td>5.025335e+05</td>\n",
       "      <td>1.643580e+06</td>\n",
       "    </tr>\n",
       "    <tr>\n",
       "      <th>max</th>\n",
       "      <td>2012.000000</td>\n",
       "      <td>135.899990</td>\n",
       "      <td>50.599998</td>\n",
       "      <td>65.599998</td>\n",
       "      <td>38.099998</td>\n",
       "      <td>9.673137e+08</td>\n",
       "      <td>1.610255e+08</td>\n",
       "      <td>8.072806e+08</td>\n",
       "    </tr>\n",
       "  </tbody>\n",
       "</table>\n",
       "</div>"
      ],
      "text/plain": [
       "              Year  Data.Daily cigarettes  Data.Percentage.Male  \\\n",
       "count  6204.000000            6204.000000           6204.000000   \n",
       "mean   1996.000000              19.851854             18.988878   \n",
       "std       9.522672              13.754893              9.181818   \n",
       "min    1980.000000               1.000000              3.000000   \n",
       "25%    1988.000000              12.700000             11.000000   \n",
       "50%    1996.000000              19.100000             18.500000   \n",
       "75%    2004.000000              23.900000             26.100000   \n",
       "max    2012.000000             135.899990             50.599998   \n",
       "\n",
       "       Data.Percentage.Female  Data.Percentage.Total  Data.Smokers.Total  \\\n",
       "count             6204.000000            6204.000000        6.204000e+03   \n",
       "mean                28.998179               9.149017        9.312808e+06   \n",
       "std                 12.971933               8.902388        6.662458e+07   \n",
       "min                  5.000000               0.500000        1.711000e+03   \n",
       "25%                 17.900000               2.300000        1.647678e+05   \n",
       "50%                 27.900000               4.900000        6.755780e+05   \n",
       "75%                 38.400002              15.000000        2.243216e+06   \n",
       "max                 65.599998              38.099998        9.673137e+08   \n",
       "\n",
       "       Data.Smokers.Female  Data.Smokers.Male  \n",
       "count         6.204000e+03       6.204000e+03  \n",
       "mean          1.687367e+06       7.625441e+06  \n",
       "std           1.172604e+07       5.527214e+07  \n",
       "min           2.970000e+02       1.248000e+03  \n",
       "25%           2.071250e+04       1.374698e+05  \n",
       "50%           9.572450e+04       5.125615e+05  \n",
       "75%           5.025335e+05       1.643580e+06  \n",
       "max           1.610255e+08       8.072806e+08  "
      ]
     },
     "execution_count": 30,
     "metadata": {},
     "output_type": "execute_result"
    }
   ],
   "source": [
    "# 异常\n",
    "dataset.describe()"
   ]
  },
  {
   "cell_type": "code",
   "execution_count": 31,
   "id": "d82827d5-824e-484c-bdb2-7386ac378f02",
   "metadata": {},
   "outputs": [
    {
     "name": "stdout",
     "output_type": "stream",
     "text": [
      "<class 'pandas.core.frame.DataFrame'>\n",
      "RangeIndex: 6204 entries, 0 to 6203\n",
      "Data columns (total 9 columns):\n",
      " #   Column                  Non-Null Count  Dtype  \n",
      "---  ------                  --------------  -----  \n",
      " 0   Country                 6204 non-null   object \n",
      " 1   Year                    6204 non-null   int64  \n",
      " 2   Data.Daily cigarettes   6204 non-null   float64\n",
      " 3   Data.Percentage.Male    6204 non-null   float64\n",
      " 4   Data.Percentage.Female  6204 non-null   float64\n",
      " 5   Data.Percentage.Total   6204 non-null   float64\n",
      " 6   Data.Smokers.Total      6204 non-null   int64  \n",
      " 7   Data.Smokers.Female     6204 non-null   int64  \n",
      " 8   Data.Smokers.Male       6204 non-null   int64  \n",
      "dtypes: float64(4), int64(4), object(1)\n",
      "memory usage: 436.3+ KB\n"
     ]
    }
   ],
   "source": [
    "# 类型\n",
    "dataset.info()"
   ]
  },
  {
   "cell_type": "code",
   "execution_count": 32,
   "id": "020b349e-b31b-46e6-a464-fc7ec20e53db",
   "metadata": {},
   "outputs": [
    {
     "name": "stdout",
     "output_type": "stream",
     "text": [
      "<class 'pandas.core.frame.DataFrame'>\n",
      "RangeIndex: 6204 entries, 0 to 6203\n",
      "Data columns (total 3 columns):\n",
      " #   Column                 Non-Null Count  Dtype  \n",
      "---  ------                 --------------  -----  \n",
      " 0   Country                6204 non-null   object \n",
      " 1   Year                   6204 non-null   int64  \n",
      " 2   Data.Daily cigarettes  6204 non-null   float64\n",
      "dtypes: float64(1), int64(1), object(1)\n",
      "memory usage: 145.5+ KB\n"
     ]
    }
   ],
   "source": [
    "# 特征工程\n",
    "from sklearn.model_selection import train_test_split\n",
    "import pickle\n",
    "columns = ['Country', 'Year', 'Data.Daily cigarettes']\n",
    "data = dataset[columns]\n",
    "data.info()"
   ]
  },
  {
   "cell_type": "code",
   "execution_count": 33,
   "id": "09957b9c-6d56-455b-9345-582a3b69808d",
   "metadata": {},
   "outputs": [
    {
     "name": "stdout",
     "output_type": "stream",
     "text": [
      "<class 'pandas.core.frame.DataFrame'>\n",
      "RangeIndex: 6204 entries, 0 to 6203\n",
      "Columns: 190 entries, Year to Country_Zimbabwe\n",
      "dtypes: float64(189), int64(1)\n",
      "memory usage: 9.0 MB\n"
     ]
    }
   ],
   "source": [
    "# 特征处理\n",
    "# 独热编码定类离散数据\n",
    "columns = ['Country']\n",
    "data_encoder = pd.get_dummies(data[columns], dtype=float)\n",
    "data = pd.concat([data, data_encoder], axis=1)\n",
    "data.drop(columns, axis=1, inplace=True)\n",
    "data.info()"
   ]
  },
  {
   "cell_type": "code",
   "execution_count": 34,
   "id": "9d7d9171-7248-4f4e-86f8-89f89b59c048",
   "metadata": {},
   "outputs": [
    {
     "data": {
      "text/plain": [
       "((4963, 189), (4963,), (1241, 189), (1241,))"
      ]
     },
     "execution_count": 34,
     "metadata": {},
     "output_type": "execute_result"
    }
   ],
   "source": [
    "# 划分训练数据集和测试数据集\n",
    "X = data.drop('Data.Daily cigarettes', axis=1)\n",
    "y = data['Data.Daily cigarettes']\n",
    "X_train, X_test, y_train, y_test = train_test_split(X, y, test_size=0.2, random_state=7)\n",
    "X_train.shape, y_train.shape, X_test.shape, y_test.shape"
   ]
  },
  {
   "cell_type": "code",
   "execution_count": 35,
   "id": "94e3d573-2a46-48ae-ac21-bae3f9cb6818",
   "metadata": {},
   "outputs": [
    {
     "name": "stdout",
     "output_type": "stream",
     "text": [
      "0------------------------------\n",
      "Cross Valication Score: 0.02006328105218269\n",
      "1------------------------------\n",
      "Cross Valication Score: -0.0040714216622409925\n"
     ]
    }
   ],
   "source": [
    "# 数据建模\n",
    "# 模型选择\n",
    "from sklearn.model_selection import cross_val_score\n",
    "from sklearn.linear_model import LinearRegression\n",
    "from sklearn.svm import SVR\n",
    "\n",
    "regs = [\n",
    "    LinearRegression(),\n",
    "    SVR(),\n",
    "]\n",
    "for i, reg in enumerate(regs):\n",
    "    reg.fit(X_train, y_train)\n",
    "    y_pred = reg.predict(X_test)\n",
    "    print(str(i)+'-'*30)\n",
    "    print(\"Cross Valication Score:\", np.mean(cross_val_score(reg, X, y, cv=5)))"
   ]
  },
  {
   "cell_type": "code",
   "execution_count": 36,
   "id": "619c9171-a831-4dcd-b8d0-0f3491c9878f",
   "metadata": {},
   "outputs": [
    {
     "name": "stderr",
     "output_type": "stream",
     "text": [
      "D:\\Works\\anaconda3\\envs\\data\\lib\\site-packages\\sklearn\\ensemble\\_base.py:156: FutureWarning: `base_estimator` was renamed to `estimator` in version 1.2 and will be removed in 1.4.\n",
      "  warnings.warn(\n"
     ]
    },
    {
     "data": {
      "text/html": [
       "<style>#sk-container-id-4 {color: black;}#sk-container-id-4 pre{padding: 0;}#sk-container-id-4 div.sk-toggleable {background-color: white;}#sk-container-id-4 label.sk-toggleable__label {cursor: pointer;display: block;width: 100%;margin-bottom: 0;padding: 0.3em;box-sizing: border-box;text-align: center;}#sk-container-id-4 label.sk-toggleable__label-arrow:before {content: \"▸\";float: left;margin-right: 0.25em;color: #696969;}#sk-container-id-4 label.sk-toggleable__label-arrow:hover:before {color: black;}#sk-container-id-4 div.sk-estimator:hover label.sk-toggleable__label-arrow:before {color: black;}#sk-container-id-4 div.sk-toggleable__content {max-height: 0;max-width: 0;overflow: hidden;text-align: left;background-color: #f0f8ff;}#sk-container-id-4 div.sk-toggleable__content pre {margin: 0.2em;color: black;border-radius: 0.25em;background-color: #f0f8ff;}#sk-container-id-4 input.sk-toggleable__control:checked~div.sk-toggleable__content {max-height: 200px;max-width: 100%;overflow: auto;}#sk-container-id-4 input.sk-toggleable__control:checked~label.sk-toggleable__label-arrow:before {content: \"▾\";}#sk-container-id-4 div.sk-estimator input.sk-toggleable__control:checked~label.sk-toggleable__label {background-color: #d4ebff;}#sk-container-id-4 div.sk-label input.sk-toggleable__control:checked~label.sk-toggleable__label {background-color: #d4ebff;}#sk-container-id-4 input.sk-hidden--visually {border: 0;clip: rect(1px 1px 1px 1px);clip: rect(1px, 1px, 1px, 1px);height: 1px;margin: -1px;overflow: hidden;padding: 0;position: absolute;width: 1px;}#sk-container-id-4 div.sk-estimator {font-family: monospace;background-color: #f0f8ff;border: 1px dotted black;border-radius: 0.25em;box-sizing: border-box;margin-bottom: 0.5em;}#sk-container-id-4 div.sk-estimator:hover {background-color: #d4ebff;}#sk-container-id-4 div.sk-parallel-item::after {content: \"\";width: 100%;border-bottom: 1px solid gray;flex-grow: 1;}#sk-container-id-4 div.sk-label:hover label.sk-toggleable__label {background-color: #d4ebff;}#sk-container-id-4 div.sk-serial::before {content: \"\";position: absolute;border-left: 1px solid gray;box-sizing: border-box;top: 0;bottom: 0;left: 50%;z-index: 0;}#sk-container-id-4 div.sk-serial {display: flex;flex-direction: column;align-items: center;background-color: white;padding-right: 0.2em;padding-left: 0.2em;position: relative;}#sk-container-id-4 div.sk-item {position: relative;z-index: 1;}#sk-container-id-4 div.sk-parallel {display: flex;align-items: stretch;justify-content: center;background-color: white;position: relative;}#sk-container-id-4 div.sk-item::before, #sk-container-id-4 div.sk-parallel-item::before {content: \"\";position: absolute;border-left: 1px solid gray;box-sizing: border-box;top: 0;bottom: 0;left: 50%;z-index: -1;}#sk-container-id-4 div.sk-parallel-item {display: flex;flex-direction: column;z-index: 1;position: relative;background-color: white;}#sk-container-id-4 div.sk-parallel-item:first-child::after {align-self: flex-end;width: 50%;}#sk-container-id-4 div.sk-parallel-item:last-child::after {align-self: flex-start;width: 50%;}#sk-container-id-4 div.sk-parallel-item:only-child::after {width: 0;}#sk-container-id-4 div.sk-dashed-wrapped {border: 1px dashed gray;margin: 0 0.4em 0.5em 0.4em;box-sizing: border-box;padding-bottom: 0.4em;background-color: white;}#sk-container-id-4 div.sk-label label {font-family: monospace;font-weight: bold;display: inline-block;line-height: 1.2em;}#sk-container-id-4 div.sk-label-container {text-align: center;}#sk-container-id-4 div.sk-container {/* jupyter's `normalize.less` sets `[hidden] { display: none; }` but bootstrap.min.css set `[hidden] { display: none !important; }` so we also need the `!important` here to be able to override the default hidden behavior on the sphinx rendered scikit-learn.org. See: https://github.com/scikit-learn/scikit-learn/issues/21755 */display: inline-block !important;position: relative;}#sk-container-id-4 div.sk-text-repr-fallback {display: none;}</style><div id=\"sk-container-id-4\" class=\"sk-top-container\"><div class=\"sk-text-repr-fallback\"><pre>BaggingRegressor(base_estimator=LinearRegression(), n_estimators=100,\n",
       "                 random_state=7)</pre><b>In a Jupyter environment, please rerun this cell to show the HTML representation or trust the notebook. <br />On GitHub, the HTML representation is unable to render, please try loading this page with nbviewer.org.</b></div><div class=\"sk-container\" hidden><div class=\"sk-item sk-dashed-wrapped\"><div class=\"sk-label-container\"><div class=\"sk-label sk-toggleable\"><input class=\"sk-toggleable__control sk-hidden--visually\" id=\"sk-estimator-id-10\" type=\"checkbox\" ><label for=\"sk-estimator-id-10\" class=\"sk-toggleable__label sk-toggleable__label-arrow\">BaggingRegressor</label><div class=\"sk-toggleable__content\"><pre>BaggingRegressor(base_estimator=LinearRegression(), n_estimators=100,\n",
       "                 random_state=7)</pre></div></div></div><div class=\"sk-parallel\"><div class=\"sk-parallel-item\"><div class=\"sk-item\"><div class=\"sk-label-container\"><div class=\"sk-label sk-toggleable\"><input class=\"sk-toggleable__control sk-hidden--visually\" id=\"sk-estimator-id-11\" type=\"checkbox\" ><label for=\"sk-estimator-id-11\" class=\"sk-toggleable__label sk-toggleable__label-arrow\">base_estimator: LinearRegression</label><div class=\"sk-toggleable__content\"><pre>LinearRegression()</pre></div></div></div><div class=\"sk-serial\"><div class=\"sk-item\"><div class=\"sk-estimator sk-toggleable\"><input class=\"sk-toggleable__control sk-hidden--visually\" id=\"sk-estimator-id-12\" type=\"checkbox\" ><label for=\"sk-estimator-id-12\" class=\"sk-toggleable__label sk-toggleable__label-arrow\">LinearRegression</label><div class=\"sk-toggleable__content\"><pre>LinearRegression()</pre></div></div></div></div></div></div></div></div></div></div>"
      ],
      "text/plain": [
       "BaggingRegressor(base_estimator=LinearRegression(), n_estimators=100,\n",
       "                 random_state=7)"
      ]
     },
     "execution_count": 36,
     "metadata": {},
     "output_type": "execute_result"
    }
   ],
   "source": [
    "# 模型优化\n",
    "from sklearn.model_selection import GridSearchCV\n",
    "from sklearn.ensemble import BaggingRegressor, AdaBoostRegressor\n",
    "# 参数调优\n",
    "\n",
    "# 集成学习\n",
    "reg = LinearRegression()\n",
    "reg_best = BaggingRegressor(base_estimator=reg, n_estimators=100, random_state=7)\n",
    "reg_best.fit(X_train, y_train)"
   ]
  },
  {
   "cell_type": "code",
   "execution_count": 37,
   "id": "8e2ce0bb-faf1-470c-befc-f389e930ddfa",
   "metadata": {},
   "outputs": [
    {
     "name": "stdout",
     "output_type": "stream",
     "text": [
      "MES:\t15.21180627177811\n",
      "R2:\t0.9142949096570181\n"
     ]
    }
   ],
   "source": [
    "# 模型评估\n",
    "from sklearn.metrics import mean_squared_error, r2_score\n",
    "y_pred = reg_best.predict(X_test)\n",
    "# mse, r2\n",
    "mse = mean_squared_error(y_test, y_pred)\n",
    "r2 = r2_score(y_test, y_pred)\n",
    "print(\"MES:\\t{}\\nR2:\\t{}\".format(mse, r2))"
   ]
  },
  {
   "cell_type": "code",
   "execution_count": 38,
   "id": "954f14e5-314b-4318-b4f4-abdb1c262eae",
   "metadata": {},
   "outputs": [],
   "source": [
    "# 模型保存\n",
    "with open('model.pkl', 'wb') as f:\n",
    "    pickle.dump(reg_best, f)"
   ]
  }
 ],
 "metadata": {
  "kernelspec": {
   "display_name": "Python 3 (ipykernel)",
   "language": "python",
   "name": "python3"
  },
  "language_info": {
   "codemirror_mode": {
    "name": "ipython",
    "version": 3
   },
   "file_extension": ".py",
   "mimetype": "text/x-python",
   "name": "python",
   "nbconvert_exporter": "python",
   "pygments_lexer": "ipython3",
   "version": "3.10.13"
  }
 },
 "nbformat": 4,
 "nbformat_minor": 5
}
